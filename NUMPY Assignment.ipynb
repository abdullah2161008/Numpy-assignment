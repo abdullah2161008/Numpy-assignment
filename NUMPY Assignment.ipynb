{
 "cells": [
  {
   "cell_type": "markdown",
   "id": "8716ad3e",
   "metadata": {},
   "source": [
    "1. What is a Python library? Why do we use Python libraries?"
   ]
  },
  {
   "cell_type": "markdown",
   "id": "976613fc",
   "metadata": {},
   "source": [
    "\"\"\" A python library is a collection of code that makes everyday task more efficient.\n",
    "For example : Using Numpy we can solve numerical problems easily.\n",
    "We use python libraries becouse they provide wide range of tools and modules for various tasks,\n",
    "making it easier for developers to work on specific tasks without reinventing the wheel.\"\"\""
   ]
  },
  {
   "cell_type": "code",
   "execution_count": null,
   "id": "66ea30a8",
   "metadata": {},
   "outputs": [],
   "source": []
  },
  {
   "cell_type": "markdown",
   "id": "d47bd0f3",
   "metadata": {},
   "source": [
    "2. What is the difference between Numpy array and List?"
   ]
  },
  {
   "cell_type": "markdown",
   "id": "b454d81a",
   "metadata": {},
   "source": [
    "The main difference is that NumPy arrays are much faster and have strict requirements on the homogeneity of the objects. For example, a NumPy array of strings can only contain strings and no other data types, but a Python list can contain a mixture of strings, numbers, booleans and other objects."
   ]
  },
  {
   "cell_type": "code",
   "execution_count": null,
   "id": "d9dfaedb",
   "metadata": {},
   "outputs": [],
   "source": []
  },
  {
   "cell_type": "markdown",
   "id": "9f1d4e4b",
   "metadata": {},
   "source": [
    "3. Find the shape, size and dimension of the following array?\n",
    "\n",
    "[[1, 2, 3, 4]\n",
    "\n",
    "[5, 6, 7, 8],\n",
    "\n",
    "[9, 10, 11, 12]]"
   ]
  },
  {
   "cell_type": "code",
   "execution_count": 7,
   "id": "66c5ae99",
   "metadata": {},
   "outputs": [
    {
     "data": {
      "text/plain": [
       "2"
      ]
     },
     "execution_count": 7,
     "metadata": {},
     "output_type": "execute_result"
    }
   ],
   "source": [
    "import numpy as np\n",
    "arr=np.array([[1,2,3,4],\n",
    "              [5,6,7,8],\n",
    "              [9,10,11,12]])\n",
    "arr\n",
    "arr.shape #to find the shape of an array\n",
    "arr.size  #to find size of an array\n",
    "arr.ndim  #to find dimension of an array "
   ]
  },
  {
   "cell_type": "code",
   "execution_count": null,
   "id": "f0323cee",
   "metadata": {},
   "outputs": [],
   "source": []
  },
  {
   "cell_type": "markdown",
   "id": "539dcbd4",
   "metadata": {},
   "source": [
    "4. Write python code to access the first row of the following array?\n",
    "\n",
    "[[1, 2, 3, 4]\n",
    "\n",
    "[5, 6, 7, 8],\n",
    "\n",
    "[9, 10, 11, 12]]"
   ]
  },
  {
   "cell_type": "code",
   "execution_count": 11,
   "id": "97b20418",
   "metadata": {},
   "outputs": [
    {
     "data": {
      "text/plain": [
       "array([1, 2, 3, 4])"
      ]
     },
     "execution_count": 11,
     "metadata": {},
     "output_type": "execute_result"
    }
   ],
   "source": [
    "arr=np.array([[1,2,3,4],[5,6,7,8],[9,10,11,12]])\n",
    "arr[0]"
   ]
  },
  {
   "cell_type": "code",
   "execution_count": null,
   "id": "d48c7fe8",
   "metadata": {},
   "outputs": [],
   "source": []
  },
  {
   "cell_type": "markdown",
   "id": "2210d3b4",
   "metadata": {},
   "source": [
    "5. How do you access the element at the third row and fourth column from the given numpy array?\n",
    "\n",
    "[[1, 2, 3, 4]\n",
    "\n",
    "[5, 6, 7, 8],\n",
    "\n",
    "[9, 10, 11, 12]]"
   ]
  },
  {
   "cell_type": "code",
   "execution_count": 16,
   "id": "7b09c2f0",
   "metadata": {},
   "outputs": [
    {
     "data": {
      "text/plain": [
       "12"
      ]
     },
     "execution_count": 16,
     "metadata": {},
     "output_type": "execute_result"
    }
   ],
   "source": [
    "arr=np.array([[1,2,3,4],[5,6,7,8],[9,10,11,12]])\n",
    "arr[2,3] #by this method you can easily asses the element at any point"
   ]
  },
  {
   "cell_type": "code",
   "execution_count": null,
   "id": "5db0f6f6",
   "metadata": {},
   "outputs": [],
   "source": []
  },
  {
   "cell_type": "markdown",
   "id": "b8eb1b08",
   "metadata": {},
   "source": [
    "6. Write code to extract all odd-indexed elements from the given numpy array?\n",
    "\n",
    "[[1, 2, 3, 4]\n",
    "\n",
    "[5, 6, 7, 8],\n",
    "\n",
    "[9, 10, 11, 12]]"
   ]
  },
  {
   "cell_type": "code",
   "execution_count": 34,
   "id": "c5915a6a",
   "metadata": {},
   "outputs": [
    {
     "data": {
      "text/plain": [
       "array([[ 1,  2,  3,  4],\n",
       "       [ 9, 10, 11, 12]])"
      ]
     },
     "execution_count": 34,
     "metadata": {},
     "output_type": "execute_result"
    }
   ],
   "source": [
    "arr=np.array([[1,2,3,4],[5,6,7,8],[9,10,11,12]])\n",
    "odd_indexed_elements=arr[0::2]\n",
    "odd_indexed_elements #This code will provide you odd_indexed_element"
   ]
  },
  {
   "cell_type": "code",
   "execution_count": null,
   "id": "970c3ec9",
   "metadata": {},
   "outputs": [],
   "source": []
  },
  {
   "cell_type": "markdown",
   "id": "625e3e05",
   "metadata": {},
   "source": [
    "7. How can you generate a random 3x3 matrix with values between 0 and 1?"
   ]
  },
  {
   "cell_type": "code",
   "execution_count": 66,
   "id": "1cb7056a",
   "metadata": {},
   "outputs": [
    {
     "data": {
      "text/plain": [
       "array([[0.75109421, 0.00177461, 0.82743502],\n",
       "       [0.70521471, 0.40167155, 0.60802985],\n",
       "       [0.98215545, 0.68754251, 0.17707243]])"
      ]
     },
     "execution_count": 66,
     "metadata": {},
     "output_type": "execute_result"
    }
   ],
   "source": [
    "import random\n",
    "arr=np.random.rand(3,3)\n",
    "arr"
   ]
  },
  {
   "cell_type": "code",
   "execution_count": null,
   "id": "0d67a96d",
   "metadata": {},
   "outputs": [],
   "source": []
  },
  {
   "cell_type": "markdown",
   "id": "10843cea",
   "metadata": {},
   "source": [
    "8. Describe the difference between np.random.rand and np.random.randn?"
   ]
  },
  {
   "cell_type": "code",
   "execution_count": null,
   "id": "4c610313",
   "metadata": {},
   "outputs": [],
   "source": [
    "\"\"\"np.random.rand generates random values from a uniform distribution over [0, 1),\n",
    "while np.random.randn generates random values from a standard normal distribution (mean=0, standard deviation=1).\"\"\""
   ]
  },
  {
   "cell_type": "code",
   "execution_count": null,
   "id": "9bb619a0",
   "metadata": {},
   "outputs": [],
   "source": []
  },
  {
   "cell_type": "markdown",
   "id": "8162d195",
   "metadata": {},
   "source": [
    "9. Write code to increase the dimension of the following array?\n",
    "\n",
    "[[1, 2, 3, 4]\n",
    "\n",
    "[5, 6, 7, 8],\n",
    "\n",
    "[9, 10, 11, 12]]"
   ]
  },
  {
   "cell_type": "code",
   "execution_count": 94,
   "id": "9bc9a273",
   "metadata": {},
   "outputs": [
    {
     "data": {
      "text/plain": [
       "array([[[[[ 1,  2,  3],\n",
       "          [ 4,  5,  6],\n",
       "          [ 7,  8,  9],\n",
       "          [10, 11, 12]]]]])"
      ]
     },
     "execution_count": 94,
     "metadata": {},
     "output_type": "execute_result"
    }
   ],
   "source": [
    "arr=np.array([[1,2,3,4],[5,6,7,8],[9,10,11,12]])\n",
    "arr.reshape(1,1,1,4,3)\n"
   ]
  },
  {
   "cell_type": "code",
   "execution_count": null,
   "id": "751d27bd",
   "metadata": {},
   "outputs": [],
   "source": []
  },
  {
   "cell_type": "markdown",
   "id": "bd0bf77b",
   "metadata": {},
   "source": [
    "10. How to transpose the following array in NumPy?\n",
    "\n",
    "[[1, 2, 3, 4]\n",
    "\n",
    "[5, 6, 7, 8],\n",
    "\n",
    "[9, 10, 11, 12]]"
   ]
  },
  {
   "cell_type": "code",
   "execution_count": 95,
   "id": "3b68f6b5",
   "metadata": {},
   "outputs": [
    {
     "data": {
      "text/plain": [
       "array([[ 1,  5,  9],\n",
       "       [ 2,  6, 10],\n",
       "       [ 3,  7, 11],\n",
       "       [ 4,  8, 12]])"
      ]
     },
     "execution_count": 95,
     "metadata": {},
     "output_type": "execute_result"
    }
   ],
   "source": [
    "arr=np.array([[1,2,3,4],[5,6,7,8],[9,10,11,12]])\n",
    "arr.T #Through this way we can transpose the given array "
   ]
  },
  {
   "cell_type": "code",
   "execution_count": null,
   "id": "4f6c5903",
   "metadata": {},
   "outputs": [],
   "source": []
  },
  {
   "cell_type": "markdown",
   "id": "366a7332",
   "metadata": {},
   "source": [
    "11. Consider the following matrix:\n",
    "\n",
    "Matrix A2 [[1, 2, 3, 4] [5, 6, 7, 8],[9, 10, 11, 12]]\n",
    "\n",
    "Matrix B2 [[1, 2, 3, 4] [5, 6, 7, 8],[9, 10, 11, 12]]\n",
    "\n",
    "\n",
    "Perform the following operation using Python1\n",
    "1 Index wise multiplication\n",
    "2 Matrix multiplication\n",
    "3 Add both the matrics\n",
    "4 Subtract matrix B from A\n",
    "5 Divide Matrix B by A"
   ]
  },
  {
   "cell_type": "code",
   "execution_count": 106,
   "id": "e95b272e",
   "metadata": {},
   "outputs": [
    {
     "data": {
      "text/plain": [
       "array([[1., 1., 1., 1.],\n",
       "       [1., 1., 1., 1.],\n",
       "       [1., 1., 1., 1.]])"
      ]
     },
     "execution_count": 106,
     "metadata": {},
     "output_type": "execute_result"
    }
   ],
   "source": [
    "A2=np.array([[1,2,3,4],[5,6,7,8],[9,10,11,12]])\n",
    "B2=np.array([[1,2,3,4],[5,6,7,8],[9,10,11,12]])\n",
    "\n",
    "#1 for index wise multiplication we use\n",
    "index_mul =A2 * B2\n",
    "index_mul\n",
    "\n",
    "#2 for matrix wise multiplication we use\n",
    "matrix_mul =A2 @ B2\n",
    "matrix_mul\n",
    "\n",
    "#3 Add both the matrix\n",
    "add_matrix = A2 + B2\n",
    "add_matrix\n",
    "\n",
    "#4 Subtract Both matrix\n",
    "Sub_matrix = A2 - B2\n",
    "Sub_matrix\n",
    "\n",
    "#5 Divide Both Matrix\n",
    "\n",
    "Div_matrix = A2 / B2\n",
    "Div_matrix"
   ]
  },
  {
   "cell_type": "code",
   "execution_count": null,
   "id": "7e4334f8",
   "metadata": {},
   "outputs": [],
   "source": []
  },
  {
   "cell_type": "markdown",
   "id": "bb5edcf4",
   "metadata": {},
   "source": [
    "12.  Which function in Numpy can be used to swap the byte order of an array?"
   ]
  },
  {
   "cell_type": "code",
   "execution_count": 111,
   "id": "57159dab",
   "metadata": {},
   "outputs": [
    {
     "name": "stdout",
     "output_type": "stream",
     "text": [
      "Original Array: [1 2 3 4]\n",
      "Swapped Array: [16777216 33554432 50331648 67108864]\n"
     ]
    }
   ],
   "source": [
    "\"\"\"In NumPy, we can use the \"byteswap\" method of an ndarray to swap the byte order\"\"\"\n",
    "#Example\n",
    "arr = np.array([1, 2, 3, 4],dtype=np.int32)\n",
    "swapped_array = arr.byteswap()\n",
    "print(\"Original Array:\", original_array)\n",
    "print(\"Swapped Array:\", swapped_array)"
   ]
  },
  {
   "cell_type": "code",
   "execution_count": null,
   "id": "a00aa612",
   "metadata": {},
   "outputs": [],
   "source": []
  },
  {
   "cell_type": "markdown",
   "id": "f8437332",
   "metadata": {},
   "source": [
    "13.  What is the significance of the np.linalg.inv function?"
   ]
  },
  {
   "cell_type": "code",
   "execution_count": 112,
   "id": "637e6bc8",
   "metadata": {},
   "outputs": [
    {
     "data": {
      "text/plain": [
       "'The np.linalg.inv function in NumPy is used to compute the inverse of a square matrix,\\nallowing solutions to linear systems of equations and aiding in eigenvalue problems.\\nIt plays a crucial role in various numerical computations.'"
      ]
     },
     "execution_count": 112,
     "metadata": {},
     "output_type": "execute_result"
    }
   ],
   "source": [
    "\"\"\"The np.linalg.inv function in NumPy is used to compute the inverse of a square matrix,\n",
    "allowing solutions to linear systems of equations and aiding in eigenvalue problems.\n",
    "It plays a crucial role in various numerical computations.\"\"\""
   ]
  },
  {
   "cell_type": "code",
   "execution_count": null,
   "id": "d6d81e03",
   "metadata": {},
   "outputs": [],
   "source": []
  },
  {
   "cell_type": "markdown",
   "id": "87b9612c",
   "metadata": {},
   "source": [
    "14. What does the np.reshape function do, and how is it used?"
   ]
  },
  {
   "cell_type": "code",
   "execution_count": 119,
   "id": "eeeb2b7e",
   "metadata": {},
   "outputs": [
    {
     "data": {
      "text/plain": [
       "array([[[[[ 1,  2],\n",
       "          [ 3,  4],\n",
       "          [ 5,  6]],\n",
       "\n",
       "         [[ 7,  8],\n",
       "          [ 9, 10],\n",
       "          [11, 12]]]]])"
      ]
     },
     "execution_count": 119,
     "metadata": {},
     "output_type": "execute_result"
    }
   ],
   "source": [
    "\"\"\"The np.reshape function in NumPy is used to change the shape of an array without altering its data.\n",
    "It takes the original array and the desired new shape as arguments, returning a new array with the specified shape.\"\"\"\n",
    "\n",
    "#Example\n",
    "arr=np.array([[1,2,3,4],[5,6,7,8],[9,10,11,12]])\n",
    "arr.reshape(1,1,2,3,2)"
   ]
  },
  {
   "cell_type": "code",
   "execution_count": null,
   "id": "8e2c9815",
   "metadata": {},
   "outputs": [],
   "source": []
  },
  {
   "cell_type": "markdown",
   "id": "4ae629e5",
   "metadata": {},
   "source": [
    "15. What is broadcasting in Numpy?"
   ]
  },
  {
   "cell_type": "code",
   "execution_count": 120,
   "id": "08cc0581",
   "metadata": {},
   "outputs": [
    {
     "data": {
      "text/plain": [
       "'Broadcasting in NumPy is the ability to perform element-wise operations on\\narrays with different shapes, automatically extending or \"broadcasting\" smaller arrays to match the shape of larger ones.\\nThis simplifies operations and makes code more concise.'"
      ]
     },
     "execution_count": 120,
     "metadata": {},
     "output_type": "execute_result"
    }
   ],
   "source": [
    "\"\"\"Broadcasting in NumPy is the ability to perform element-wise operations on\n",
    "arrays with different shapes, automatically extending or \"broadcasting\" smaller arrays to match the shape of larger ones.\n",
    "This simplifies operations and makes code more concise.\"\"\""
   ]
  },
  {
   "cell_type": "code",
   "execution_count": null,
   "id": "417c4bc5",
   "metadata": {},
   "outputs": [],
   "source": []
  }
 ],
 "metadata": {
  "kernelspec": {
   "display_name": "Python 3 (ipykernel)",
   "language": "python",
   "name": "python3"
  },
  "language_info": {
   "codemirror_mode": {
    "name": "ipython",
    "version": 3
   },
   "file_extension": ".py",
   "mimetype": "text/x-python",
   "name": "python",
   "nbconvert_exporter": "python",
   "pygments_lexer": "ipython3",
   "version": "3.10.9"
  }
 },
 "nbformat": 4,
 "nbformat_minor": 5
}
